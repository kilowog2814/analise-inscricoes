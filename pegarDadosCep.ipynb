{
 "cells": [
  {
   "cell_type": "code",
   "execution_count": null,
   "id": "a1b75b97-a8ac-49cf-b235-8fc11401e407",
   "metadata": {
    "tags": []
   },
   "outputs": [],
   "source": [
    "import pandas as pd\n",
    "import requests\n",
    "from numpy import nan\n",
    "from time import sleep\n",
    "import numpy as np\n",
    "\n",
    "api_cep = \"https://brasilapi.com.br/api/cep/v1/CEP\"\n",
    "arquivo = ''"
   ]
  },
  {
   "cell_type": "code",
   "execution_count": null,
   "id": "5db25dc7",
   "metadata": {},
   "outputs": [],
   "source": [
    "def pesquisaCEP(linhaBase):\n",
    "    numero_str = str(linhaBase['cep'])\n",
    "    numero_formatado = numero_str.zfill(8)\n",
    "    r = requests.get(api_cep.replace(\"CEP\",numero_formatado))\n",
    "    if r.status_code == 200:\n",
    "        try:\n",
    "            ##return r.json()[\"city\"], r.json()[\"state\"], r.json()[\"neighborhood\"]\n",
    "            return pd.Series({'localidade': r.json()[\"city\"], 'uf': r.json()[\"state\"], 'bairro': r.json()[\"neighborhood\"]})\n",
    "\n",
    "        except KeyError:\n",
    "          print(numero_formatado)\n",
    "          return pd.Series({'localidade': nan, 'uf': nan, 'bairro': nan})\n",
    "    else: return pd.Series({'localidade': nan, 'uf': nan, 'bairro': nan})"
   ]
  },
  {
   "cell_type": "code",
   "execution_count": null,
   "id": "d2c42eaf",
   "metadata": {},
   "outputs": [],
   "source": [
    "df_consolidado = pd.read_excel(arquivo, sheet_name='Sheet1')\n",
    "df_consolidado = df_consolidado.replace(nan,0)\n",
    "df_consolidado = df_consolidado.astype({'cep': 'Int64'})"
   ]
  },
  {
   "cell_type": "code",
   "execution_count": null,
   "id": "0e7b0ba2",
   "metadata": {},
   "outputs": [],
   "source": [
    "df_split = np.array_split(df_consolidado,10)"
   ]
  },
  {
   "cell_type": "code",
   "execution_count": null,
   "id": "862a8eb2",
   "metadata": {},
   "outputs": [],
   "source": [
    "i = 1\n",
    "\n",
    "for df in df_split:\n",
    "    print(f\"{i}/10\")\n",
    "    df[['localidade','uf','bairro']] = df.apply(pesquisaCEP, axis=1, result_type='expand')\n",
    "    i += 1"
   ]
  },
  {
   "cell_type": "code",
   "execution_count": null,
   "id": "b289880e",
   "metadata": {},
   "outputs": [],
   "source": [
    "df_com_localidades = pd.concat(df_split)"
   ]
  },
  {
   "cell_type": "code",
   "execution_count": null,
   "id": "f13cdb7c",
   "metadata": {},
   "outputs": [],
   "source": [
    "df_com_localidades.to_excel(\"consolidado_inscricoes_jan-2016_dez-2023_com_bairro.xlsx\",index=False)"
   ]
  }
 ],
 "metadata": {
  "kernelspec": {
   "display_name": "Python 3 (ipykernel)",
   "language": "python",
   "name": "python3"
  },
  "language_info": {
   "codemirror_mode": {
    "name": "ipython",
    "version": 3
   },
   "file_extension": ".py",
   "mimetype": "text/x-python",
   "name": "python",
   "nbconvert_exporter": "python",
   "pygments_lexer": "ipython3",
   "version": "0.0.0"
  }
 },
 "nbformat": 4,
 "nbformat_minor": 5
}
