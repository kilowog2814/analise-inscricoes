{
 "cells": [
  {
   "cell_type": "code",
   "execution_count": null,
   "id": "a1b75b97-a8ac-49cf-b235-8fc11401e407",
   "metadata": {
    "tags": []
   },
   "outputs": [],
   "source": [
    "import os\n",
    "import pandas as pd\n",
    "import uuid\n",
    "from numpy import nan\n",
    "import re\n",
    "\n",
    "pastas = []\n",
    "consolidado = []\n",
    "\n",
    "for folder in os.listdir('./bases'):\n",
    "    pastas.append(folder)\n",
    "\n",
    "# regex foram alterados devido anominização dos dados\n",
    "regex_idioma1 = re.compile(r'') \n",
    "regex_idioma2 = re.compile(r'')\n",
    "regex_idioma3 = re.compile(r'')\n",
    "regex_idioma4 = re.compile(r'')"
   ]
  },
  {
   "cell_type": "code",
   "execution_count": null,
   "id": "7171a556",
   "metadata": {},
   "outputs": [],
   "source": [
    "for pasta_ano in pastas:\n",
    "    \n",
    "    print(f\"pasta: {pasta_ano}\")\n",
    "    for excel in os.listdir(f'./bases/{pasta_ano}'):\n",
    "        print(f\"arquivo: {excel}\")\n",
    "        if excel != 'Janeiro_2016.xlsx': # arquivo com schema unico\n",
    "            xl = pd.ExcelFile(f\"./bases/{pasta_ano}/{excel}\")\n",
    "            if pasta_ano == '2023': # pasta de 2023 com schema diferente do normal\n",
    "                dfs = ({sheet_name: xl.parse(sheet_name) for sheet_name in xl.sheet_names})\n",
    "            else:\n",
    "                dfs = ({sheet_name: xl.parse(sheet_name, skiprows=1) for sheet_name in xl.sheet_names})\n",
    "            for sheet in dfs.keys():\n",
    "\n",
    "                df_consolidado = pd.DataFrame()\n",
    "                \n",
    "                if sheet not in ['RESUMO','Email Config','todos','Página1','Resumo']: # sheets sem informação\n",
    "                    df = dfs[sheet]\n",
    "                    \n",
    "                    if 'coluna_0' in df.columns:\n",
    "                        df_consolidado['data_inscricao'] = df['coluna_0']\n",
    "                    elif 'coluna_0' in df.columns:\n",
    "                        df_consolidado['data_inscricao'] = df['coluna_0']\n",
    "                    elif \"coluna_0\" in df.columns:\n",
    "                        df_consolidado['data_inscricao'] = df['coluna_0']\n",
    "                    else: df_consolidado['data_inscricao'] = nan\n",
    "\n",
    "                    df_consolidado['coluna_1'] = df['coluna_1']\n",
    "                    \n",
    "                    if 'coluna_2' in df.columns:\n",
    "                        df_consolidado['coluna_2'] = df['coluna_2']\n",
    "                    else:\n",
    "                        df_consolidado['coluna_2'] = nan\n",
    "                    \n",
    "                    \n",
    "                    if \"coluna_3\" in df.columns:\n",
    "                        df_consolidado['coluna_3'] = df['coluna_3']\n",
    "                    else: \n",
    "                        df_consolidado['coluna_3'] = df['coluna_3']\n",
    "                        \n",
    "                    if 'coluna_4' in df.columns:\n",
    "                        df_consolidado['coluna_4'] = df['coluna_4']\n",
    "                    else: df_consolidado['coluna_4'] = nan\n",
    "                        \n",
    "                    if 'cep:' in df.columns:\n",
    "                        df_consolidado['cep'] = df['cep:']\n",
    "                    else: df_consolidado['cep'] = nan\n",
    "                        \n",
    "                    df_consolidado['coluna_5'] = df[\"coluna_5\"]\n",
    "\n",
    "                    if 'coluna_6' in df.columns:\n",
    "                        df_consolidado['coluna_6'] = df[\"coluna_6\"]\n",
    "                    elif 'coluna_6' in df.columns:\n",
    "                        df_consolidado['coluna_6'] = df[\"coluna_6\"]\n",
    "                    else: df_consolidado['coluna_6'] = nan\n",
    "\n",
    "                    if 'coluna_7' in df.columns:\n",
    "                        df_consolidado['coluna_7'] = df[\"coluna_7\"]\n",
    "                    elif 'coluna_7' in df.columns:\n",
    "                            df_consolidado['coluna_7'] = df[\"coluna_7\"]\n",
    "\n",
    "                    \n",
    "                    df_consolidado.insert(0,\"id_inscricao\",[uuid.uuid1() for _ in range(len(df_consolidado.index))])\n",
    "                    df_consolidado['turma'] = sheet\n",
    "                    df_consolidado['arquivo'] = f\"{pasta_ano}/{excel}\"\n",
    "\n",
    "                    consolidado.append(df_consolidado)"
   ]
  },
  {
   "cell_type": "code",
   "execution_count": null,
   "id": "9a5ba76c",
   "metadata": {},
   "outputs": [],
   "source": [
    "pasta_ano = 'bases/2016'\n",
    "excel = 'Janeiro_2016.xlsx'\n",
    "xl = pd.ExcelFile(f\"{pasta_ano}/{excel}\")\n",
    "dfs = ({sheet_name: xl.parse(sheet_name, skiprows=1) for sheet_name in xl.sheet_names})\n"
   ]
  },
  {
   "cell_type": "code",
   "execution_count": null,
   "id": "850204e8",
   "metadata": {},
   "outputs": [],
   "source": [
    "consolidado2016 = []\n",
    "for sheet in dfs.keys():\n",
    "    print(sheet)\n",
    "    df_consolidado = pd.DataFrame()\n",
    "    \n",
    "    df = dfs[sheet]\n",
    "    df_consolidado['data_inscricao'] = nan\n",
    "    df_consolidado['coluna_1'] = df['coluna_1']\n",
    "    df_consolidado['coluna_3'] = df['coluna_3']\n",
    "    df_consolidado['coluna_5'] = nan\n",
    "    df_consolidado['coluna_6'] = nan\n",
    "    df_consolidado['coluna_7'] = df['coluna_7']\n",
    "    df_consolidado['coluna_8'] = df['coluna_8']\n",
    "    \n",
    "    if \"coluna_9\" in df.columns:\n",
    "        df_consolidado['coluna_9'] = df['coluna_9']\n",
    "    else: \n",
    "        df_consolidado['coluna_9'] = nan\n",
    "    \n",
    "    df_consolidado.insert(0,\"id_inscricao\",[uuid.uuid1() for _ in range(len(df_consolidado.index))])\n",
    "    df_consolidado['turma'] = df['Idioma']\n",
    "    df_consolidado['arquivo'] = f\"{pasta_ano}/{excel}\"\n",
    "    \n",
    "    consolidado.append(df_consolidado)"
   ]
  },
  {
   "cell_type": "code",
   "execution_count": null,
   "id": "0219dad2",
   "metadata": {},
   "outputs": [],
   "source": [
    "consolidado_2016_2023 =  pd.concat(consolidado)"
   ]
  },
  {
   "cell_type": "code",
   "execution_count": null,
   "id": "efefd80f",
   "metadata": {},
   "outputs": [],
   "source": [
    "consolidado_2016_2023['idioma'] = consolidado_2016_2023['turma'].apply(lambda x: 'idioma1' if regex_espanhol.search(x) \n",
    "                                                                       else ('idioma2' if regex_arabe.search(x) else (\n",
    "                                                                           'idioma3' if regex_ingles.search(x) else (\n",
    "                                                                               'idioma4' if regex_france.search(x) else None\n",
    "                                                                               )\n",
    "                                                                               )\n",
    "                                                                               )\n",
    "                                                                       )"
   ]
  },
  {
   "cell_type": "code",
   "execution_count": null,
   "id": "eb554716",
   "metadata": {},
   "outputs": [],
   "source": [
    "consolidado_2016_2023['data_inscricao'] = pd.to_datetime(consolidado_2016_2023['data_inscricao'], errors=\"coerce\")"
   ]
  },
  {
   "cell_type": "code",
   "execution_count": null,
   "id": "8c41fd02",
   "metadata": {},
   "outputs": [],
   "source": [
    "consolidado_2016_2023.to_excel(\"consolidade_inscriçoes_jan-2016_dez-2023.xlsx\", index=False)"
   ]
  }
 ],
 "metadata": {
  "kernelspec": {
   "display_name": "Python 3 (ipykernel)",
   "language": "python",
   "name": "python3"
  },
  "language_info": {
   "codemirror_mode": {
    "name": "ipython",
    "version": 3
   },
   "file_extension": ".py",
   "mimetype": "text/x-python",
   "name": "python",
   "nbconvert_exporter": "python",
   "pygments_lexer": "ipython3",
   "version": "0.0.0"
  }
 },
 "nbformat": 4,
 "nbformat_minor": 5
}
