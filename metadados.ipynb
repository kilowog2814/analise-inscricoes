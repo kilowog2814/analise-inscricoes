{
 "cells": [
  {
   "cell_type": "code",
   "execution_count": null,
   "id": "a1b75b97-a8ac-49cf-b235-8fc11401e407",
   "metadata": {
    "tags": []
   },
   "outputs": [],
   "source": [
    "import os\n",
    "import pandas as pd\n",
    "\n",
    "\n",
    "metadados = []"
   ]
  },
  {
   "cell_type": "code",
   "execution_count": null,
   "id": "7171a556",
   "metadata": {},
   "outputs": [],
   "source": [
    "for folder in os.listdir('bases'):\n",
    "    for file in os.listdir(f'bases/{folder}'):\n",
    "        \n",
    "        full_path = f\"bases/{folder}/{file}\"\n",
    "        xl = pd.ExcelFile(full_path)\n",
    "        for sheet in xl.sheet_names:\n",
    "            \n",
    "            if folder == '2023':\n",
    "                dfs = ({sheet_name: xl.parse(sheet_name) for sheet_name in xl.sheet_names})\n",
    "            else:\n",
    "                dfs = ({sheet_name: xl.parse(sheet_name, skiprows=1) for sheet_name in xl.sheet_names})\n",
    "        \n",
    "            for sheet, df in dfs.items():\n",
    "                df[sheet] = ''\n",
    "                df[full_path] = ''\n",
    "\n",
    "                df_colunas = pd.DataFrame([df.columns], columns=range(len(df.columns)))\n",
    "                metadados.append(df_colunas)\n"
   ]
  },
  {
   "cell_type": "code",
   "execution_count": 122,
   "id": "e954f393",
   "metadata": {},
   "outputs": [],
   "source": [
    "df_consolidado_metadados = pd.concat(metadados)"
   ]
  },
  {
   "cell_type": "code",
   "execution_count": 123,
   "id": "60f92c77",
   "metadata": {},
   "outputs": [],
   "source": [
    "df_consolidado_metadados.to_excel(\"metadados_inscricoes.xlsx\")"
   ]
  }
 ],
 "metadata": {
  "kernelspec": {
   "display_name": "Python 3 (ipykernel)",
   "language": "python",
   "name": "python3"
  },
  "language_info": {
   "codemirror_mode": {
    "name": "ipython",
    "version": 3
   },
   "file_extension": ".py",
   "mimetype": "text/x-python",
   "name": "python",
   "nbconvert_exporter": "python",
   "pygments_lexer": "ipython3",
   "version": "3.11.4"
  }
 },
 "nbformat": 4,
 "nbformat_minor": 5
}
